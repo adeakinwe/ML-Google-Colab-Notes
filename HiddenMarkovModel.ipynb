{
  "nbformat": 4,
  "nbformat_minor": 0,
  "metadata": {
    "colab": {
      "provenance": [],
      "authorship_tag": "ABX9TyPzfE5Y57Qm9Xiyl0bK05Pn",
      "include_colab_link": true
    },
    "kernelspec": {
      "name": "python3",
      "display_name": "Python 3"
    },
    "language_info": {
      "name": "python"
    }
  },
  "cells": [
    {
      "cell_type": "markdown",
      "metadata": {
        "id": "view-in-github",
        "colab_type": "text"
      },
      "source": [
        "<a href=\"https://colab.research.google.com/github/adeakinwe/ML-Google-Colab-Notes/blob/main/HiddenMarkovModel.ipynb\" target=\"_parent\"><img src=\"https://colab.research.google.com/assets/colab-badge.svg\" alt=\"Open In Colab\"/></a>"
      ]
    },
    {
      "cell_type": "code",
      "execution_count": null,
      "metadata": {
        "colab": {
          "base_uri": "https://localhost:8080/"
        },
        "id": "ULw2sO4-H3mn",
        "outputId": "3712ee0f-41b2-4d2e-bd16-d2ebcef19cdb"
      },
      "outputs": [
        {
          "output_type": "stream",
          "name": "stdout",
          "text": [
            "Colab only includes TensorFlow 2.x; %tensorflow_version has no effect.\n"
          ]
        }
      ],
      "source": [
        "%tensorflow_version 2.x"
      ]
    },
    {
      "cell_type": "code",
      "source": [
        "import tensorflow as tf\n",
        "import tensorflow_probability as tfp"
      ],
      "metadata": {
        "id": "4HQztKiZIPRV"
      },
      "execution_count": null,
      "outputs": []
    },
    {
      "cell_type": "code",
      "source": [
        "tfd = tfp.distributions\n",
        "initial_distribution = tfd.Categorical(probs=[0.6,0.4]) #starting probability with a cold and hot day respectively.\n",
        "transition_distribution = tfd.Categorical(probs=[[0.5,0.5],[0.3,0.7]]) #transition probabilities from cold-cold, cold-hot, hot-cold and hot-hot\n",
        "observation_distribution = tfd.Normal(loc=[0.,15.], scale=[5.,10.]) #loc = mean and std_deviation(0,5) on a cold day and mean and std_deviation(15,10) on a hot day"
      ],
      "metadata": {
        "id": "I3El_BOgIqD5"
      },
      "execution_count": null,
      "outputs": []
    },
    {
      "cell_type": "code",
      "source": [
        "model= tfd.HiddenMarkovModel(\n",
        "    initial_distribution = initial_distribution,\n",
        "    transition_distribution = transition_distribution,\n",
        "    observation_distribution = observation_distribution,\n",
        "    num_steps = 2\n",
        ") #Predicting temperature for 7 days as num_steps"
      ],
      "metadata": {
        "id": "CBBSM7OWJpgU"
      },
      "execution_count": null,
      "outputs": []
    },
    {
      "cell_type": "code",
      "source": [
        "mean = model.mean()"
      ],
      "metadata": {
        "id": "JiN9U45OLHb4"
      },
      "execution_count": null,
      "outputs": []
    },
    {
      "cell_type": "code",
      "source": [
        "with tf.compat.v1.Session() as sess:\n",
        "  print(mean.numpy()) #print temperature"
      ],
      "metadata": {
        "colab": {
          "base_uri": "https://localhost:8080/"
        },
        "id": "g6DjPRQkLMgv",
        "outputId": "84e676c0-f92e-47af-fad6-f24d9dc6eaba"
      },
      "execution_count": null,
      "outputs": [
        {
          "output_type": "stream",
          "name": "stdout",
          "text": [
            "[6.       8.700001]\n"
          ]
        }
      ]
    }
  ]
}